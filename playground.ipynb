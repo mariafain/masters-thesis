{
 "cells": [
  {
   "cell_type": "code",
   "execution_count": 2,
   "metadata": {},
   "outputs": [
    {
     "name": "stderr",
     "output_type": "stream",
     "text": [
      "2024-04-01 20:42:16.498899: I tensorflow/tsl/cuda/cudart_stub.cc:28] Could not find cuda drivers on your machine, GPU will not be used.\n",
      "2024-04-01 20:42:16.531855: I tensorflow/tsl/cuda/cudart_stub.cc:28] Could not find cuda drivers on your machine, GPU will not be used.\n",
      "2024-04-01 20:42:16.532572: I tensorflow/core/platform/cpu_feature_guard.cc:182] This TensorFlow binary is optimized to use available CPU instructions in performance-critical operations.\n",
      "To enable the following instructions: AVX2 FMA, in other operations, rebuild TensorFlow with the appropriate compiler flags.\n",
      "2024-04-01 20:42:17.191536: W tensorflow/compiler/tf2tensorrt/utils/py_utils.cc:38] TF-TRT Warning: Could not find TensorRT\n"
     ]
    }
   ],
   "source": [
    "import pandas as pd\n",
    "import numpy as np\n",
    "import matplotlib.pyplot as plt\n",
    "import seaborn as sns\n",
    "from keras.preprocessing.text import Tokenizer\n",
    "from keras.preprocessing.sequence import pad_sequences\n",
    "from keras.layers import Embedding, LSTM, Dense, Bidirectional\n",
    "from keras.models import Sequential\n",
    "from tensorflow.keras.optimizers import Adam\n",
    "from tensorflow.keras.callbacks import EarlyStopping\n",
    "from sklearn.model_selection import StratifiedShuffleSplit\n",
    "from sklearn.metrics import classification_report, confusion_matrix, ConfusionMatrixDisplay\n",
    "\n",
    "from preprocessing import clean_text"
   ]
  },
  {
   "cell_type": "markdown",
   "metadata": {},
   "source": [
    "# BiLSTM"
   ]
  },
  {
   "cell_type": "code",
   "execution_count": 3,
   "metadata": {},
   "outputs": [
    {
     "data": {
      "text/html": [
       "<div>\n",
       "<style scoped>\n",
       "    .dataframe tbody tr th:only-of-type {\n",
       "        vertical-align: middle;\n",
       "    }\n",
       "\n",
       "    .dataframe tbody tr th {\n",
       "        vertical-align: top;\n",
       "    }\n",
       "\n",
       "    .dataframe thead th {\n",
       "        text-align: right;\n",
       "    }\n",
       "</style>\n",
       "<table border=\"1\" class=\"dataframe\">\n",
       "  <thead>\n",
       "    <tr style=\"text-align: right;\">\n",
       "      <th></th>\n",
       "      <th>id</th>\n",
       "      <th>title</th>\n",
       "      <th>text</th>\n",
       "      <th>generated</th>\n",
       "    </tr>\n",
       "  </thead>\n",
       "  <tbody>\n",
       "    <tr>\n",
       "      <th>0</th>\n",
       "      <td>63064638</td>\n",
       "      <td>Sexhow railway station</td>\n",
       "      <td>Sexhow railway station was a railway station b...</td>\n",
       "      <td>0</td>\n",
       "    </tr>\n",
       "    <tr>\n",
       "      <th>1</th>\n",
       "      <td>18704707</td>\n",
       "      <td>Sexhow railway station</td>\n",
       "      <td>Sexhow railway station was a railway station l...</td>\n",
       "      <td>1</td>\n",
       "    </tr>\n",
       "    <tr>\n",
       "      <th>2</th>\n",
       "      <td>279621</td>\n",
       "      <td>Etiäinen</td>\n",
       "      <td>In Finnish folklore, all places and things, an...</td>\n",
       "      <td>0</td>\n",
       "    </tr>\n",
       "    <tr>\n",
       "      <th>3</th>\n",
       "      <td>58254742</td>\n",
       "      <td>Etiäinen</td>\n",
       "      <td>In Finnish folklore, all places and things, an...</td>\n",
       "      <td>1</td>\n",
       "    </tr>\n",
       "    <tr>\n",
       "      <th>4</th>\n",
       "      <td>287229</td>\n",
       "      <td>Inverse function theorem</td>\n",
       "      <td>In mathematics, specifically differential calc...</td>\n",
       "      <td>0</td>\n",
       "    </tr>\n",
       "  </tbody>\n",
       "</table>\n",
       "</div>"
      ],
      "text/plain": [
       "         id                     title  \\\n",
       "0  63064638    Sexhow railway station   \n",
       "1  18704707    Sexhow railway station   \n",
       "2    279621                  Etiäinen   \n",
       "3  58254742                  Etiäinen   \n",
       "4    287229  Inverse function theorem   \n",
       "\n",
       "                                                text  generated  \n",
       "0  Sexhow railway station was a railway station b...          0  \n",
       "1  Sexhow railway station was a railway station l...          1  \n",
       "2  In Finnish folklore, all places and things, an...          0  \n",
       "3  In Finnish folklore, all places and things, an...          1  \n",
       "4  In mathematics, specifically differential calc...          0  "
      ]
     },
     "execution_count": 3,
     "metadata": {},
     "output_type": "execute_result"
    }
   ],
   "source": [
    "df = pd.read_csv('data/transformed_wiki_data.csv', header=0)\n",
    "df.head()"
   ]
  },
  {
   "cell_type": "code",
   "execution_count": 4,
   "metadata": {},
   "outputs": [],
   "source": [
    "preprocessed_texts = []\n",
    "for text in df['text']:\n",
    "    preprocessed_texts.append(clean_text(text))"
   ]
  },
  {
   "cell_type": "code",
   "execution_count": 5,
   "metadata": {},
   "outputs": [
    {
     "data": {
      "text/html": [
       "<div>\n",
       "<style scoped>\n",
       "    .dataframe tbody tr th:only-of-type {\n",
       "        vertical-align: middle;\n",
       "    }\n",
       "\n",
       "    .dataframe tbody tr th {\n",
       "        vertical-align: top;\n",
       "    }\n",
       "\n",
       "    .dataframe thead th {\n",
       "        text-align: right;\n",
       "    }\n",
       "</style>\n",
       "<table border=\"1\" class=\"dataframe\">\n",
       "  <thead>\n",
       "    <tr style=\"text-align: right;\">\n",
       "      <th></th>\n",
       "      <th>id</th>\n",
       "      <th>title</th>\n",
       "      <th>text</th>\n",
       "      <th>generated</th>\n",
       "      <th>preprocessed_text</th>\n",
       "    </tr>\n",
       "  </thead>\n",
       "  <tbody>\n",
       "    <tr>\n",
       "      <th>0</th>\n",
       "      <td>63064638</td>\n",
       "      <td>Sexhow railway station</td>\n",
       "      <td>Sexhow railway station was a railway station b...</td>\n",
       "      <td>0</td>\n",
       "      <td>sexhow railway station railway station built s...</td>\n",
       "    </tr>\n",
       "    <tr>\n",
       "      <th>1</th>\n",
       "      <td>18704707</td>\n",
       "      <td>Sexhow railway station</td>\n",
       "      <td>Sexhow railway station was a railway station l...</td>\n",
       "      <td>1</td>\n",
       "      <td>sexhow railway station railway station located...</td>\n",
       "    </tr>\n",
       "    <tr>\n",
       "      <th>2</th>\n",
       "      <td>279621</td>\n",
       "      <td>Etiäinen</td>\n",
       "      <td>In Finnish folklore, all places and things, an...</td>\n",
       "      <td>0</td>\n",
       "      <td>finnish folklore place thing also human being ...</td>\n",
       "    </tr>\n",
       "    <tr>\n",
       "      <th>3</th>\n",
       "      <td>58254742</td>\n",
       "      <td>Etiäinen</td>\n",
       "      <td>In Finnish folklore, all places and things, an...</td>\n",
       "      <td>1</td>\n",
       "      <td>finnish folklore place thing animate inanimate...</td>\n",
       "    </tr>\n",
       "    <tr>\n",
       "      <th>4</th>\n",
       "      <td>287229</td>\n",
       "      <td>Inverse function theorem</td>\n",
       "      <td>In mathematics, specifically differential calc...</td>\n",
       "      <td>0</td>\n",
       "      <td>mathematics specifically differential calculus...</td>\n",
       "    </tr>\n",
       "  </tbody>\n",
       "</table>\n",
       "</div>"
      ],
      "text/plain": [
       "         id                     title  \\\n",
       "0  63064638    Sexhow railway station   \n",
       "1  18704707    Sexhow railway station   \n",
       "2    279621                  Etiäinen   \n",
       "3  58254742                  Etiäinen   \n",
       "4    287229  Inverse function theorem   \n",
       "\n",
       "                                                text  generated  \\\n",
       "0  Sexhow railway station was a railway station b...          0   \n",
       "1  Sexhow railway station was a railway station l...          1   \n",
       "2  In Finnish folklore, all places and things, an...          0   \n",
       "3  In Finnish folklore, all places and things, an...          1   \n",
       "4  In mathematics, specifically differential calc...          0   \n",
       "\n",
       "                                   preprocessed_text  \n",
       "0  sexhow railway station railway station built s...  \n",
       "1  sexhow railway station railway station located...  \n",
       "2  finnish folklore place thing also human being ...  \n",
       "3  finnish folklore place thing animate inanimate...  \n",
       "4  mathematics specifically differential calculus...  "
      ]
     },
     "execution_count": 5,
     "metadata": {},
     "output_type": "execute_result"
    }
   ],
   "source": [
    "df['preprocessed_text'] = [' '.join(text) for text in preprocessed_texts]\n",
    "df.head()"
   ]
  },
  {
   "cell_type": "markdown",
   "metadata": {},
   "source": [
    "# Splitting the Data"
   ]
  },
  {
   "cell_type": "code",
   "execution_count": 20,
   "metadata": {},
   "outputs": [],
   "source": [
    "split = StratifiedShuffleSplit(n_splits=1, test_size=0.4, random_state=42)\n",
    "\n",
    "for train_index, test_valid_index in split.split(df, df['generated']):\n",
    "    train_set = df.iloc[train_index]\n",
    "    test_valid_set = df.iloc[test_valid_index]\n",
    "\n",
    "split2 = StratifiedShuffleSplit(n_splits=1, test_size=0.5, random_state=42)\n",
    "for test_index, valid_index in split2.split(test_valid_set, test_valid_set['generated']):\n",
    "    test_set = test_valid_set.iloc[test_index]\n",
    "    valid_set = test_valid_set.iloc[valid_index]"
   ]
  },
  {
   "cell_type": "code",
   "execution_count": 14,
   "metadata": {},
   "outputs": [],
   "source": [
    "# v3\n",
    "\n",
    "train_set = df[:180000]\n",
    "valid_set = df[180000:240000]\n",
    "test_set = df[240000:]"
   ]
  },
  {
   "cell_type": "code",
   "execution_count": 15,
   "metadata": {},
   "outputs": [],
   "source": [
    "x_train = train_set['preprocessed_text']\n",
    "y_train = np.array(train_set['generated'])\n",
    "\n",
    "x_test = test_set['preprocessed_text']\n",
    "y_test = np.array(test_set['generated'])\n",
    "\n",
    "x_valid = valid_set['preprocessed_text']\n",
    "y_valid = np.array(valid_set['generated'])"
   ]
  },
  {
   "cell_type": "code",
   "execution_count": 16,
   "metadata": {},
   "outputs": [
    {
     "data": {
      "text/plain": [
       "((180000,), (60000,), (60000,))"
      ]
     },
     "execution_count": 16,
     "metadata": {},
     "output_type": "execute_result"
    }
   ],
   "source": [
    "x_train.shape, x_test.shape, x_valid.shape"
   ]
  },
  {
   "cell_type": "markdown",
   "metadata": {},
   "source": [
    "# Prepare the Data for Modeling\n",
    "\n",
    "To feed data to an LSTM, all sequences (all texts) must be of the same length and shaped appropriately."
   ]
  },
  {
   "cell_type": "code",
   "execution_count": 17,
   "metadata": {},
   "outputs": [],
   "source": [
    "tokenizer = Tokenizer(oov_token='<OOV>')\n",
    "tokenizer.fit_on_texts(pd.concat([x_train, x_valid], axis=0))"
   ]
  },
  {
   "cell_type": "code",
   "execution_count": 18,
   "metadata": {},
   "outputs": [],
   "source": [
    "sequences_train = tokenizer.texts_to_sequences(x_train)\n",
    "sequences_test = tokenizer.texts_to_sequences(x_test)\n",
    "sequences_valid = tokenizer.texts_to_sequences(x_valid)"
   ]
  },
  {
   "cell_type": "markdown",
   "metadata": {},
   "source": [
    "Let's decide which length to take for max_seq_len."
   ]
  },
  {
   "cell_type": "code",
   "execution_count": 36,
   "metadata": {},
   "outputs": [
    {
     "data": {
      "text/plain": [
       "8866"
      ]
     },
     "execution_count": 36,
     "metadata": {},
     "output_type": "execute_result"
    }
   ],
   "source": [
    "(df['preprocessed_text'].str.split().apply(len) > 164 ).sum()"
   ]
  },
  {
   "cell_type": "code",
   "execution_count": 19,
   "metadata": {},
   "outputs": [],
   "source": [
    "max_seq_len = 164"
   ]
  },
  {
   "cell_type": "code",
   "execution_count": 20,
   "metadata": {},
   "outputs": [
    {
     "name": "stdout",
     "output_type": "stream",
     "text": [
      "Vocabulary size = 650839\n"
     ]
    }
   ],
   "source": [
    "# padding\n",
    "x_train = pad_sequences(sequences_train, maxlen=max_seq_len, truncating='post')\n",
    "x_test = pad_sequences(sequences_test, maxlen=max_seq_len, truncating='post')\n",
    "x_valid = pad_sequences(sequences_valid, maxlen=max_seq_len, truncating='post')\n",
    "\n",
    "vocab_size = len(tokenizer.index_word) + 1\n",
    "print(f\"Vocabulary size = {vocab_size}\")"
   ]
  },
  {
   "cell_type": "markdown",
   "metadata": {},
   "source": [
    "# Word Embeddings\n",
    "\n",
    "We are using GloVe pre-trained word vectors. They can be downloaded on: https://nlp.stanford.edu/projects/glove/. We used 'glove.6B'. Let's also clarify some variables that will be used:\n",
    "\n",
    "- path_to_glove - file path to the GloVe word vectors file (downloaded from the official website)\n",
    "- num_tokens - size of the vocabulary (number of unique words in our dataset)\n",
    "- embedding_dim - dimensionality of the word vectors (hyperparameter)\n",
    "- hits - counter for the number of words that are found in the embeddings_index dictionary\n",
    "- misses - counter for the number of words that are not found in the embeddings_index dictionary\n",
    "- embeddings_index - dictionary that will store the word vectors, with the words as keys and the word vectors as values\n"
   ]
  },
  {
   "cell_type": "code",
   "execution_count": 21,
   "metadata": {},
   "outputs": [],
   "source": [
    "path_to_glove = 'downloads/glove.6B.200d.txt'\n",
    "num_tokens = vocab_size\n",
    "embedding_dim = 200 #could be changed to better fit the model\n",
    "hits = 0\n",
    "misses = 0\n",
    "embeddings_index = {}"
   ]
  },
  {
   "cell_type": "code",
   "execution_count": 22,
   "metadata": {},
   "outputs": [
    {
     "name": "stdout",
     "output_type": "stream",
     "text": [
      "Found 400000 word vectors.\n",
      "Converted 207006 words (443832 misses)\n"
     ]
    }
   ],
   "source": [
    "# read word vectors\n",
    "with open(path_to_glove, encoding='utf8') as f:\n",
    "    for line in f:\n",
    "        word, coefs = line.split(maxsplit=1)\n",
    "        coefs = np.fromstring(coefs, \"f\", sep=\" \")\n",
    "        embeddings_index[word] = coefs\n",
    "print(\"Found %s word vectors.\" % len(embeddings_index))\n",
    "\n",
    "# assign word vectors to our dictionary/vocabulary\n",
    "embedding_matrix = np.zeros((num_tokens, embedding_dim))\n",
    "for word, i in tokenizer.word_index.items():\n",
    "    embedding_vector = embeddings_index.get(word)\n",
    "    if embedding_vector is not None:\n",
    "        # words not found in embedding index will be all-zeros.\n",
    "        # this includes the representation for \"padding\" and \"OOV\"\n",
    "        embedding_matrix[i] = embedding_vector\n",
    "        hits += 1\n",
    "    else:\n",
    "        misses += 1\n",
    "print(\"Converted %d words (%d misses)\" % (hits, misses))"
   ]
  },
  {
   "cell_type": "markdown",
   "metadata": {},
   "source": [
    "# Modeling"
   ]
  },
  {
   "cell_type": "code",
   "execution_count": 23,
   "metadata": {},
   "outputs": [],
   "source": [
    "params_dict = {'dropout': 0.3,\n",
    "               'rec_dropout': 0.3,\n",
    "               'learning_rate': 0.006,\n",
    "               'patience': 4,\n",
    "               'units': 128,\n",
    "               'batch': 256}"
   ]
  },
  {
   "cell_type": "code",
   "execution_count": 30,
   "metadata": {},
   "outputs": [],
   "source": [
    "y_train = np.asarray(y_train).astype('float32').reshape((-1,1))\n",
    "y_test = np.asarray(y_test).astype('float32').reshape((-1,1))\n",
    "y_valid = np.asarray(y_valid).astype('float32').reshape((-1,1))"
   ]
  },
  {
   "cell_type": "code",
   "execution_count": 24,
   "metadata": {},
   "outputs": [],
   "source": [
    "def build_model(params_dict, embedding_matrix):\n",
    "    model = Sequential()\n",
    "    model.add(Embedding(vocab_size,\n",
    "                        embedding_dim,\n",
    "                        input_length=x_train.shape[1],\n",
    "                        weights=[embedding_matrix],\n",
    "                        trainable=False))\n",
    "    model.add(Bidirectional(LSTM(units=params_dict['units'],\n",
    "                                 recurrent_dropout=params_dict['rec_dropout'],\n",
    "                                 return_sequences=True)))\n",
    "    model.add(Dense(1, activation='sigmoid'))\n",
    "\n",
    "    model.compile(loss='binary_crossentropy',\n",
    "                  optimizer=Adam(learning_rate=params_dict['learning_rate']),\n",
    "                  metrics=['accuracy'])\n",
    "    model.summary()\n",
    "\n",
    "    return model    "
   ]
  },
  {
   "cell_type": "code",
   "execution_count": 121,
   "metadata": {},
   "outputs": [],
   "source": [
    "def build_model_v2(params_dict, embedding_matrix):\n",
    "    model = Sequential()\n",
    "    model.add(Embedding(vocab_size,\n",
    "                        embedding_dim,\n",
    "                        input_length=x_train.shape[1],\n",
    "                        weights=[embedding_matrix],\n",
    "                        trainable=False))\n",
    "    model.add(Bidirectional(LSTM(units=params_dict['units'],\n",
    "                                 recurrent_dropout=params_dict['rec_dropout'],\n",
    "                                 return_sequences=True)))\n",
    "    model.add(Bidirectional(LSTM(units=params_dict['units'],\n",
    "                                 recurrent_dropout=params_dict['rec_dropout'])))\n",
    "    model.add(Dense(1, activation='sigmoid'))\n",
    "\n",
    "    model.compile(loss='binary_crossentropy',\n",
    "                  optimizer=Adam(learning_rate=params_dict['learning_rate']),\n",
    "                  metrics=['accuracy'])\n",
    "    model.summary()\n",
    "\n",
    "    return model    "
   ]
  },
  {
   "cell_type": "code",
   "execution_count": 25,
   "metadata": {},
   "outputs": [],
   "source": [
    "def fit_model(model, x_train, y_train, x_valid, y_valid, params_dict):\n",
    "    callback = EarlyStopping(\n",
    "        monitor=\"val_loss\",\n",
    "        patience=params_dict['patience'],\n",
    "        restore_best_weights=True,\n",
    "    )\n",
    "\n",
    "    history = model.fit(x_train,\n",
    "                        y_train,\n",
    "                        validation_data=(x_valid, y_valid),\n",
    "                        verbose=1,\n",
    "                        batch_size=params_dict['batch'],\n",
    "                        epochs=15,\n",
    "                        callbacks=[callback])\n",
    "    \n",
    "    return history, model"
   ]
  },
  {
   "cell_type": "markdown",
   "metadata": {},
   "source": [
    "# V3"
   ]
  },
  {
   "cell_type": "code",
   "execution_count": 31,
   "metadata": {},
   "outputs": [
    {
     "name": "stdout",
     "output_type": "stream",
     "text": [
      "Model: \"sequential_1\"\n",
      "_________________________________________________________________\n",
      " Layer (type)                Output Shape              Param #   \n",
      "=================================================================\n",
      " embedding_1 (Embedding)     (None, 164, 200)          130167800 \n",
      "                                                                 \n",
      " bidirectional_1 (Bidirecti  (None, 164, 256)          336896    \n",
      " onal)                                                           \n",
      "                                                                 \n",
      " dense_1 (Dense)             (None, 164, 1)            257       \n",
      "                                                                 \n",
      "=================================================================\n",
      "Total params: 130504953 (497.84 MB)\n",
      "Trainable params: 337153 (1.29 MB)\n",
      "Non-trainable params: 130167800 (496.55 MB)\n",
      "_________________________________________________________________\n",
      "Epoch 1/15\n",
      "704/704 [==============================] - 220s 309ms/step - loss: 0.2909 - accuracy: 0.8680 - val_loss: 0.1499 - val_accuracy: 0.9422\n",
      "Epoch 2/15\n",
      "704/704 [==============================] - 214s 304ms/step - loss: 0.1281 - accuracy: 0.9504 - val_loss: 0.1351 - val_accuracy: 0.9488\n",
      "Epoch 3/15\n",
      "704/704 [==============================] - 213s 303ms/step - loss: 0.0980 - accuracy: 0.9626 - val_loss: 0.1055 - val_accuracy: 0.9597\n",
      "Epoch 4/15\n",
      "704/704 [==============================] - 212s 302ms/step - loss: 0.0807 - accuracy: 0.9692 - val_loss: 0.1039 - val_accuracy: 0.9615\n",
      "Epoch 5/15\n",
      "704/704 [==============================] - 212s 301ms/step - loss: 0.0688 - accuracy: 0.9742 - val_loss: 0.1061 - val_accuracy: 0.9615\n",
      "Epoch 6/15\n",
      "704/704 [==============================] - 211s 300ms/step - loss: 0.0611 - accuracy: 0.9772 - val_loss: 0.1022 - val_accuracy: 0.9633\n",
      "Epoch 7/15\n",
      "704/704 [==============================] - 211s 299ms/step - loss: 0.0540 - accuracy: 0.9799 - val_loss: 0.1035 - val_accuracy: 0.9636\n",
      "Epoch 8/15\n",
      "704/704 [==============================] - 211s 300ms/step - loss: 0.0526 - accuracy: 0.9803 - val_loss: 0.1004 - val_accuracy: 0.9644\n",
      "Epoch 9/15\n",
      "704/704 [==============================] - 211s 299ms/step - loss: 0.0479 - accuracy: 0.9822 - val_loss: 0.1080 - val_accuracy: 0.9634\n",
      "Epoch 10/15\n",
      "704/704 [==============================] - 210s 298ms/step - loss: 0.0458 - accuracy: 0.9831 - val_loss: 0.1067 - val_accuracy: 0.9628\n",
      "Epoch 11/15\n",
      "704/704 [==============================] - 210s 299ms/step - loss: 0.0437 - accuracy: 0.9839 - val_loss: 0.1095 - val_accuracy: 0.9640\n",
      "Epoch 12/15\n",
      "704/704 [==============================] - 211s 299ms/step - loss: 0.0428 - accuracy: 0.9842 - val_loss: 0.1098 - val_accuracy: 0.9656\n"
     ]
    }
   ],
   "source": [
    "# v3\n",
    "model = build_model(params_dict, embedding_matrix)\n",
    "history, model = fit_model(model, x_train, y_train, x_valid, y_valid, params_dict)"
   ]
  },
  {
   "cell_type": "code",
   "execution_count": 32,
   "metadata": {},
   "outputs": [],
   "source": [
    "model.save('models/bilstm_model_v3.keras')"
   ]
  },
  {
   "cell_type": "code",
   "execution_count": 33,
   "metadata": {},
   "outputs": [
    {
     "name": "stdout",
     "output_type": "stream",
     "text": [
      "1875/1875 [==============================] - 40s 21ms/step - loss: 0.0999 - accuracy: 0.9642\n"
     ]
    },
    {
     "data": {
      "text/plain": [
       "[0.09987036883831024, 0.9641566872596741]"
      ]
     },
     "execution_count": 33,
     "metadata": {},
     "output_type": "execute_result"
    }
   ],
   "source": [
    "model.evaluate(x_test, y_test, verbose=1)"
   ]
  },
  {
   "cell_type": "code",
   "execution_count": 34,
   "metadata": {},
   "outputs": [
    {
     "name": "stdout",
     "output_type": "stream",
     "text": [
      "1875/1875 [==============================] - 39s 21ms/step\n"
     ]
    }
   ],
   "source": [
    "predictions = model.predict(x_test)"
   ]
  },
  {
   "cell_type": "code",
   "execution_count": 37,
   "metadata": {},
   "outputs": [],
   "source": [
    "y_pred = np.where(predictions.max(axis=-2) > 0.5, 1, 0)"
   ]
  },
  {
   "cell_type": "code",
   "execution_count": 38,
   "metadata": {},
   "outputs": [
    {
     "name": "stdout",
     "output_type": "stream",
     "text": [
      "              precision    recall  f1-score   support\n",
      "\n",
      "         0.0       0.99      0.88      0.93     30000\n",
      "         1.0       0.89      0.99      0.94     30000\n",
      "\n",
      "    accuracy                           0.94     60000\n",
      "   macro avg       0.94      0.94      0.94     60000\n",
      "weighted avg       0.94      0.94      0.94     60000\n",
      "\n"
     ]
    }
   ],
   "source": [
    "print(classification_report(np.array(y_test), y_pred.flatten()))"
   ]
  },
  {
   "cell_type": "markdown",
   "metadata": {},
   "source": [
    "# V1"
   ]
  },
  {
   "cell_type": "code",
   "execution_count": 65,
   "metadata": {},
   "outputs": [
    {
     "name": "stdout",
     "output_type": "stream",
     "text": [
      "Model: \"sequential_1\"\n",
      "_________________________________________________________________\n",
      " Layer (type)                Output Shape              Param #   \n",
      "=================================================================\n",
      " embedding_1 (Embedding)     (None, 164, 200)          132196600 \n",
      "                                                                 \n",
      " bidirectional_1 (Bidirecti  (None, 164, 256)          336896    \n",
      " onal)                                                           \n",
      "                                                                 \n",
      " dense_1 (Dense)             (None, 164, 1)            257       \n",
      "                                                                 \n",
      "=================================================================\n",
      "Total params: 132533753 (505.58 MB)\n",
      "Trainable params: 337153 (1.29 MB)\n",
      "Non-trainable params: 132196600 (504.29 MB)\n",
      "_________________________________________________________________\n",
      "Epoch 1/15\n",
      "704/704 [==============================] - 223s 313ms/step - loss: 0.2506 - accuracy: 0.8915 - val_loss: 0.1522 - val_accuracy: 0.9382\n",
      "Epoch 2/15\n",
      "704/704 [==============================] - 216s 307ms/step - loss: 0.1249 - accuracy: 0.9520 - val_loss: 0.1350 - val_accuracy: 0.9474\n",
      "Epoch 3/15\n",
      "704/704 [==============================] - 215s 305ms/step - loss: 0.0960 - accuracy: 0.9632 - val_loss: 0.1050 - val_accuracy: 0.9597\n",
      "Epoch 4/15\n",
      "704/704 [==============================] - 215s 305ms/step - loss: 0.0758 - accuracy: 0.9714 - val_loss: 0.1040 - val_accuracy: 0.9608\n",
      "Epoch 5/15\n",
      "704/704 [==============================] - 213s 303ms/step - loss: 0.0651 - accuracy: 0.9755 - val_loss: 0.1042 - val_accuracy: 0.9627\n",
      "Epoch 6/15\n",
      "704/704 [==============================] - 213s 302ms/step - loss: 0.0588 - accuracy: 0.9780 - val_loss: 0.1017 - val_accuracy: 0.9627\n",
      "Epoch 7/15\n",
      "704/704 [==============================] - 213s 302ms/step - loss: 0.0531 - accuracy: 0.9802 - val_loss: 0.1070 - val_accuracy: 0.9637\n",
      "Epoch 8/15\n",
      "704/704 [==============================] - 212s 301ms/step - loss: 0.0491 - accuracy: 0.9817 - val_loss: 0.1101 - val_accuracy: 0.9614\n",
      "Epoch 9/15\n",
      "704/704 [==============================] - 212s 300ms/step - loss: 0.0460 - accuracy: 0.9829 - val_loss: 0.1157 - val_accuracy: 0.9611\n",
      "Epoch 10/15\n",
      "704/704 [==============================] - 211s 300ms/step - loss: 0.0489 - accuracy: 0.9818 - val_loss: 0.1274 - val_accuracy: 0.9583\n"
     ]
    }
   ],
   "source": [
    "model = build_model(params_dict, embedding_matrix)\n",
    "history, model = fit_model(model, x_train, y_train, x_valid, y_valid, params_dict)"
   ]
  },
  {
   "cell_type": "code",
   "execution_count": 66,
   "metadata": {},
   "outputs": [],
   "source": [
    "model.save('models/bilstm_model_v1.keras')"
   ]
  },
  {
   "cell_type": "code",
   "execution_count": 67,
   "metadata": {},
   "outputs": [
    {
     "name": "stdout",
     "output_type": "stream",
     "text": [
      "1875/1875 [==============================] - 40s 22ms/step - loss: 0.1017 - accuracy: 0.9627\n"
     ]
    },
    {
     "data": {
      "text/plain": [
       "[0.10167942941188812, 0.9626824855804443]"
      ]
     },
     "execution_count": 67,
     "metadata": {},
     "output_type": "execute_result"
    }
   ],
   "source": [
    "model.evaluate(x_valid, y_valid, verbose=1) "
   ]
  },
  {
   "cell_type": "code",
   "execution_count": 69,
   "metadata": {},
   "outputs": [
    {
     "name": "stdout",
     "output_type": "stream",
     "text": [
      "1875/1875 [==============================] - 44s 23ms/step - loss: 0.1036 - accuracy: 0.9621\n"
     ]
    },
    {
     "data": {
      "text/plain": [
       "[0.10363466292619705, 0.9621368646621704]"
      ]
     },
     "execution_count": 69,
     "metadata": {},
     "output_type": "execute_result"
    }
   ],
   "source": [
    "model.evaluate(x_test, y_test, verbose=1) "
   ]
  },
  {
   "cell_type": "code",
   "execution_count": 91,
   "metadata": {},
   "outputs": [
    {
     "name": "stdout",
     "output_type": "stream",
     "text": [
      "   1/1875 [..............................] - ETA: 1:00"
     ]
    },
    {
     "name": "stdout",
     "output_type": "stream",
     "text": [
      "1875/1875 [==============================] - 38s 20ms/step\n"
     ]
    }
   ],
   "source": [
    "predictions = model.predict(x_test)"
   ]
  },
  {
   "cell_type": "code",
   "execution_count": 94,
   "metadata": {},
   "outputs": [],
   "source": [
    "y_pred = np.where(predictions.max(axis=-2) > 0.5, 1, 0)"
   ]
  },
  {
   "cell_type": "code",
   "execution_count": 101,
   "metadata": {},
   "outputs": [
    {
     "name": "stdout",
     "output_type": "stream",
     "text": [
      "              precision    recall  f1-score   support\n",
      "\n",
      "           0       0.99      0.88      0.93     30000\n",
      "           1       0.89      0.99      0.94     30000\n",
      "\n",
      "    accuracy                           0.93     60000\n",
      "   macro avg       0.94      0.93      0.93     60000\n",
      "weighted avg       0.94      0.93      0.93     60000\n",
      "\n"
     ]
    }
   ],
   "source": [
    "print(classification_report(np.array(y_test), y_pred.flatten()))"
   ]
  },
  {
   "cell_type": "code",
   "execution_count": 102,
   "metadata": {},
   "outputs": [
    {
     "data": {
      "image/png": "[encoded data removed]",
      "text/plain": [
       "<Figure size 640x480 with 1 Axes>"
      ]
     },
     "metadata": {},
     "output_type": "display_data"
    },
    {
     "data": {
      "image/png": "[encoded data removed]",
      "text/plain": [
       "<Figure size 640x480 with 1 Axes>"
      ]
     },
     "metadata": {},
     "output_type": "display_data"
    }
   ],
   "source": [
    "# Visualize Loss & Accuracy\n",
    "\n",
    "acc = history.history['accuracy']\n",
    "val_acc = history.history['val_accuracy']\n",
    "loss = history.history['loss']\n",
    "val_loss = history.history['val_loss']\n",
    "\n",
    "epochs = range(len(acc))\n",
    "\n",
    "plt.plot(epochs, acc, 'r', label='Training accuracy')\n",
    "plt.plot(epochs, val_acc, 'b', label='Validation accuracy')\n",
    "plt.title('Training and validation accuracy')\n",
    "plt.legend()\n",
    "plt.figure()\n",
    "\n",
    "plt.plot(epochs, loss, 'r', label='Training Loss')\n",
    "plt.plot(epochs, val_loss, 'b', label='Validation Loss')\n",
    "plt.title('Training and validation loss')\n",
    "plt.legend()\n",
    "\n",
    "plt.show()"
   ]
  },
  {
   "cell_type": "code",
   "execution_count": 104,
   "metadata": {},
   "outputs": [
    {
     "data": {
      "image/png": "[encoded data removed]",
      "text/plain": [
       "<Figure size 640x480 with 2 Axes>"
      ]
     },
     "metadata": {},
     "output_type": "display_data"
    }
   ],
   "source": [
    "cm = confusion_matrix(np.array(y_test), y_pred.flatten())\n",
    "disp = ConfusionMatrixDisplay(confusion_matrix=cm)\n",
    "disp.plot(cmap=plt.cm.Blues)\n",
    "plt.show()"
   ]
  },
  {
   "cell_type": "markdown",
   "metadata": {},
   "source": [
    "# V2"
   ]
  },
  {
   "cell_type": "code",
   "execution_count": 138,
   "metadata": {},
   "outputs": [
    {
     "name": "stdout",
     "output_type": "stream",
     "text": [
      "Model: \"sequential_5\"\n",
      "_________________________________________________________________\n",
      " Layer (type)                Output Shape              Param #   \n",
      "=================================================================\n",
      " embedding_4 (Embedding)     (None, 164, 200)          132196600 \n",
      "                                                                 \n",
      " bidirectional_5 (Bidirecti  (None, 164, 256)          336896    \n",
      " onal)                                                           \n",
      "                                                                 \n",
      " bidirectional_6 (Bidirecti  (None, 256)               394240    \n",
      " onal)                                                           \n",
      "                                                                 \n",
      " dense_4 (Dense)             (None, 1)                 257       \n",
      "                                                                 \n",
      "=================================================================\n",
      "Total params: 132927993 (507.08 MB)\n",
      "Trainable params: 731393 (2.79 MB)\n",
      "Non-trainable params: 132196600 (504.29 MB)\n",
      "_________________________________________________________________\n",
      "Epoch 1/15\n",
      "704/704 [==============================] - 430s 603ms/step - loss: 0.2431 - accuracy: 0.8934 - val_loss: 0.1406 - val_accuracy: 0.9436\n",
      "Epoch 2/15\n",
      "704/704 [==============================] - 422s 600ms/step - loss: 0.1235 - accuracy: 0.9518 - val_loss: 0.1274 - val_accuracy: 0.9507\n",
      "Epoch 3/15\n",
      "704/704 [==============================] - 422s 599ms/step - loss: 0.0924 - accuracy: 0.9656 - val_loss: 0.1044 - val_accuracy: 0.9619\n",
      "Epoch 4/15\n",
      "704/704 [==============================] - 422s 599ms/step - loss: 0.0668 - accuracy: 0.9750 - val_loss: 0.0938 - val_accuracy: 0.9654\n",
      "Epoch 5/15\n",
      "704/704 [==============================] - 422s 599ms/step - loss: 0.0639 - accuracy: 0.9761 - val_loss: 0.1105 - val_accuracy: 0.9587\n",
      "Epoch 6/15\n",
      "704/704 [==============================] - 422s 599ms/step - loss: 0.0513 - accuracy: 0.9801 - val_loss: 0.0889 - val_accuracy: 0.9682\n",
      "Epoch 7/15\n",
      "704/704 [==============================] - 421s 598ms/step - loss: 0.0375 - accuracy: 0.9858 - val_loss: 0.1153 - val_accuracy: 0.9620\n",
      "Epoch 8/15\n",
      "704/704 [==============================] - 421s 598ms/step - loss: 0.0319 - accuracy: 0.9881 - val_loss: 0.1137 - val_accuracy: 0.9647\n",
      "Epoch 9/15\n",
      "704/704 [==============================] - 420s 597ms/step - loss: 0.0296 - accuracy: 0.9888 - val_loss: 0.1012 - val_accuracy: 0.9685\n",
      "Epoch 10/15\n",
      "704/704 [==============================] - 421s 598ms/step - loss: 0.0251 - accuracy: 0.9906 - val_loss: 0.1124 - val_accuracy: 0.9656\n"
     ]
    }
   ],
   "source": [
    "model_v2 = build_model_v2(params_dict, embedding_matrix)\n",
    "history, model = fit_model(model_v2, x_train, y_train, x_valid, y_valid, params_dict)"
   ]
  },
  {
   "cell_type": "code",
   "execution_count": null,
   "metadata": {},
   "outputs": [],
   "source": []
  },
  {
   "cell_type": "code",
   "execution_count": 139,
   "metadata": {},
   "outputs": [
    {
     "name": "stdout",
     "output_type": "stream",
     "text": [
      "1875/1875 [==============================] - 74s 39ms/step - loss: 0.0889 - accuracy: 0.9682\n"
     ]
    },
    {
     "data": {
      "text/plain": [
       "[0.08893194049596786, 0.9681500196456909]"
      ]
     },
     "execution_count": 139,
     "metadata": {},
     "output_type": "execute_result"
    }
   ],
   "source": [
    "model_v2.evaluate(x_valid, y_valid, verbose=1) "
   ]
  },
  {
   "cell_type": "code",
   "execution_count": 140,
   "metadata": {},
   "outputs": [
    {
     "name": "stdout",
     "output_type": "stream",
     "text": [
      "1875/1875 [==============================] - 71s 38ms/step - loss: 0.0874 - accuracy: 0.9685\n"
     ]
    },
    {
     "data": {
      "text/plain": [
       "[0.08743561059236526, 0.968500018119812]"
      ]
     },
     "execution_count": 140,
     "metadata": {},
     "output_type": "execute_result"
    }
   ],
   "source": [
    "model_v2.evaluate(x_test, y_test, verbose=1) "
   ]
  },
  {
   "cell_type": "code",
   "execution_count": 146,
   "metadata": {},
   "outputs": [
    {
     "name": "stdout",
     "output_type": "stream",
     "text": [
      "   1/1875 [..............................] - ETA: 1:30"
     ]
    },
    {
     "name": "stdout",
     "output_type": "stream",
     "text": [
      "1875/1875 [==============================] - 74s 39ms/step\n"
     ]
    }
   ],
   "source": [
    "predictions = model_v2.predict(x_test)"
   ]
  },
  {
   "cell_type": "code",
   "execution_count": 149,
   "metadata": {},
   "outputs": [],
   "source": [
    "y_pred = np.where(predictions.max(axis=-1) > 0.5, 1, 0)"
   ]
  },
  {
   "cell_type": "code",
   "execution_count": 152,
   "metadata": {},
   "outputs": [
    {
     "name": "stdout",
     "output_type": "stream",
     "text": [
      "              precision    recall  f1-score   support\n",
      "\n",
      "           0       0.96      0.98      0.97     30000\n",
      "           1       0.98      0.96      0.97     30000\n",
      "\n",
      "    accuracy                           0.97     60000\n",
      "   macro avg       0.97      0.97      0.97     60000\n",
      "weighted avg       0.97      0.97      0.97     60000\n",
      "\n"
     ]
    }
   ],
   "source": [
    "print(classification_report(np.array(y_test), y_pred))"
   ]
  },
  {
   "cell_type": "code",
   "execution_count": 153,
   "metadata": {},
   "outputs": [],
   "source": [
    "model_v2.save('models/bilstm_model_v2.keras')"
   ]
  },
  {
   "cell_type": "code",
   "execution_count": 154,
   "metadata": {},
   "outputs": [
    {
     "data": {
      "image/png": "[encoded data removed]",
      "text/plain": [
       "<Figure size 640x480 with 2 Axes>"
      ]
     },
     "metadata": {},
     "output_type": "display_data"
    }
   ],
   "source": [
    "cm = confusion_matrix(y_test, y_pred)\n",
    "disp = ConfusionMatrixDisplay(confusion_matrix=cm)\n",
    "disp.plot(cmap=plt.cm.Blues)\n",
    "plt.show()"
   ]
  },
  {
   "cell_type": "code",
   "execution_count": null,
   "metadata": {},
   "outputs": [],
   "source": []
  },
  {
   "cell_type": "code",
   "execution_count": null,
   "metadata": {},
   "outputs": [],
   "source": []
  },
  {
   "cell_type": "markdown",
   "metadata": {},
   "source": [
    "# BERT"
   ]
  },
  {
   "cell_type": "code",
   "execution_count": 12,
   "metadata": {},
   "outputs": [
    {
     "name": "stderr",
     "output_type": "stream",
     "text": [
      "/home/mfain/anaconda/envs/venv-masters/lib/python3.8/site-packages/tqdm/auto.py:21: TqdmWarning: IProgress not found. Please update jupyter and ipywidgets. See https://ipywidgets.readthedocs.io/en/stable/user_install.html\n",
      "  from .autonotebook import tqdm as notebook_tqdm\n"
     ]
    }
   ],
   "source": [
    "import ktrain"
   ]
  },
  {
   "cell_type": "code",
   "execution_count": 17,
   "metadata": {},
   "outputs": [],
   "source": [
    "# v3\n",
    "\n",
    "train_set = df[:180000]\n",
    "valid_set = df[180000:240000]\n",
    "test_set = df[240000:]"
   ]
  },
  {
   "cell_type": "code",
   "execution_count": 18,
   "metadata": {},
   "outputs": [],
   "source": [
    "x_train = train_set['preprocessed_text'].tolist()\n",
    "y_train = np.array(train_set['generated'])\n",
    "\n",
    "x_test = test_set['preprocessed_text'].tolist()\n",
    "y_test = np.array(test_set['generated'])\n",
    "\n",
    "x_valid = valid_set['preprocessed_text'].tolist()\n",
    "y_valid = np.array(valid_set['generated'])"
   ]
  },
  {
   "cell_type": "code",
   "execution_count": 11,
   "metadata": {},
   "outputs": [
    {
     "data": {
      "text/plain": [
       "(180000, 60000, 60000)"
      ]
     },
     "execution_count": 11,
     "metadata": {},
     "output_type": "execute_result"
    }
   ],
   "source": [
    "len(x_train), len(x_valid), len(x_test)"
   ]
  },
  {
   "cell_type": "code",
   "execution_count": 15,
   "metadata": {},
   "outputs": [],
   "source": [
    "max_seq_len = 164\n",
    "class_names = ['not generated', 'generated']"
   ]
  },
  {
   "cell_type": "code",
   "execution_count": 19,
   "metadata": {},
   "outputs": [
    {
     "name": "stdout",
     "output_type": "stream",
     "text": [
      "preprocessing train...\n",
      "language: en\n"
     ]
    },
    {
     "data": {
      "text/html": [
       "\n",
       "<style>\n",
       "    /* Turns off some styling */\n",
       "    progress {\n",
       "        /* gets rid of default border in Firefox and Opera. */\n",
       "        border: none;\n",
       "        /* Needs to be in here for Safari polyfill so background images work as expected. */\n",
       "        background-size: auto;\n",
       "    }\n",
       "    progress:not([value]), progress:not([value])::-webkit-progress-bar {\n",
       "        background: repeating-linear-gradient(45deg, #7e7e7e, #7e7e7e 10px, #5c5c5c 10px, #5c5c5c 20px);\n",
       "    }\n",
       "    .progress-bar-interrupted, .progress-bar-interrupted::-webkit-progress-bar {\n",
       "        background: #F44336;\n",
       "    }\n",
       "</style>\n"
      ],
      "text/plain": [
       "<IPython.core.display.HTML object>"
      ]
     },
     "metadata": {},
     "output_type": "display_data"
    },
    {
     "data": {
      "text/html": [
       "done."
      ],
      "text/plain": [
       "<IPython.core.display.HTML object>"
      ]
     },
     "metadata": {},
     "output_type": "display_data"
    },
    {
     "name": "stdout",
     "output_type": "stream",
     "text": [
      "Is Multi-Label? False\n",
      "preprocessing test...\n",
      "language: en\n"
     ]
    },
    {
     "data": {
      "text/html": [
       "\n",
       "<style>\n",
       "    /* Turns off some styling */\n",
       "    progress {\n",
       "        /* gets rid of default border in Firefox and Opera. */\n",
       "        border: none;\n",
       "        /* Needs to be in here for Safari polyfill so background images work as expected. */\n",
       "        background-size: auto;\n",
       "    }\n",
       "    progress:not([value]), progress:not([value])::-webkit-progress-bar {\n",
       "        background: repeating-linear-gradient(45deg, #7e7e7e, #7e7e7e 10px, #5c5c5c 10px, #5c5c5c 20px);\n",
       "    }\n",
       "    .progress-bar-interrupted, .progress-bar-interrupted::-webkit-progress-bar {\n",
       "        background: #F44336;\n",
       "    }\n",
       "</style>\n"
      ],
      "text/plain": [
       "<IPython.core.display.HTML object>"
      ]
     },
     "metadata": {},
     "output_type": "display_data"
    },
    {
     "data": {
      "text/html": [
       "done."
      ],
      "text/plain": [
       "<IPython.core.display.HTML object>"
      ]
     },
     "metadata": {},
     "output_type": "display_data"
    },
    {
     "name": "stdout",
     "output_type": "stream",
     "text": [
      "task: text classification\n"
     ]
    }
   ],
   "source": [
    "(x_train, y_train), (x_valid, y_valid), preproc = ktrain.text.texts_from_array(x_train=x_train, y_train=y_train,\n",
    "                                                                    x_test=x_valid, y_test=y_valid,\n",
    "                                                                    preprocess_mode='bert',\n",
    "                                                                    class_names=class_names,\n",
    "                                                                    maxlen=max_seq_len,\n",
    "                                                                    max_features=35000)"
   ]
  },
  {
   "cell_type": "code",
   "execution_count": 20,
   "metadata": {},
   "outputs": [
    {
     "name": "stdout",
     "output_type": "stream",
     "text": [
      "Is Multi-Label? False\n",
      "maxlen is 164\n"
     ]
    },
    {
     "name": "stderr",
     "output_type": "stream",
     "text": [
      "2024-04-01 21:13:30.742022: I tensorflow/compiler/xla/stream_executor/cuda/cuda_gpu_executor.cc:995] successful NUMA node read from SysFS had negative value (-1), but there must be at least one NUMA node, so returning NUMA node zero. See more at https://github.com/torvalds/linux/blob/v6.0/Documentation/ABI/testing/sysfs-bus-pci#L344-L355\n",
      "2024-04-01 21:13:30.743709: I tensorflow/compiler/xla/stream_executor/cuda/cuda_gpu_executor.cc:995] successful NUMA node read from SysFS had negative value (-1), but there must be at least one NUMA node, so returning NUMA node zero. See more at https://github.com/torvalds/linux/blob/v6.0/Documentation/ABI/testing/sysfs-bus-pci#L344-L355\n",
      "2024-04-01 21:13:30.784430: W tensorflow/core/common_runtime/gpu/gpu_device.cc:1960] Cannot dlopen some GPU libraries. Please make sure the missing libraries mentioned above are installed properly if you would like to use GPU. Follow the guide at https://www.tensorflow.org/install/gpu for how to download and setup the required libraries for your platform.\n",
      "Skipping registering GPU devices...\n",
      "/home/mfain/anaconda/envs/venv-masters/lib/python3.8/site-packages/keras/src/initializers/initializers.py:120: UserWarning: The initializer GlorotNormal is unseeded and being called multiple times, which will return identical values each time (even if the initializer is unseeded). Please update your code to provide a seed to the initializer, or avoid using the same initializer instance more than once.\n",
      "  warnings.warn(\n"
     ]
    },
    {
     "name": "stdout",
     "output_type": "stream",
     "text": [
      "done.\n"
     ]
    }
   ],
   "source": [
    "model_bert = ktrain.text.text_classifier('bert', train_data=(x_train, y_train), preproc=preproc)"
   ]
  },
  {
   "cell_type": "code",
   "execution_count": 22,
   "metadata": {},
   "outputs": [],
   "source": [
    "learner = ktrain.get_learner(model_bert, train_data=(x_train, y_train), \n",
    "                             val_data=(x_valid, y_valid),\n",
    "                             batch_size=16)"
   ]
  },
  {
   "cell_type": "code",
   "execution_count": 24,
   "metadata": {},
   "outputs": [
    {
     "name": "stdout",
     "output_type": "stream",
     "text": [
      "\n",
      "\n",
      "begin training using onecycle policy with max lr of 2e-05...\n",
      "Epoch 1/3\n"
     ]
    },
    {
     "name": "stdout",
     "output_type": "stream",
     "text": [
      "  602/11250 [>.............................] - ETA: 5:42:59 - loss: 0.2583 - accuracy: 0.8960"
     ]
    }
   ],
   "source": [
    "learning_rate = 2e-5\n",
    "epochs = 3\n",
    "learner.fit_onecycle(learning_rate, epochs)"
   ]
  },
  {
   "cell_type": "code",
   "execution_count": null,
   "metadata": {},
   "outputs": [],
   "source": []
  }
 ],
 "metadata": {
  "kernelspec": {
   "display_name": "venv-masters",
   "language": "python",
   "name": "python3"
  },
  "language_info": {
   "codemirror_mode": {
    "name": "ipython",
    "version": 3
   },
   "file_extension": ".py",
   "mimetype": "text/x-python",
   "name": "python",
   "nbconvert_exporter": "python",
   "pygments_lexer": "ipython3",
   "version": "3.8.19"
  }
 },
 "nbformat": 4,
 "nbformat_minor": 2
}
